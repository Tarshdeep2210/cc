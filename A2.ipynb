{
  "metadata": {
    "kernelspec": {
      "name": "python",
      "display_name": "Python (Pyodide)",
      "language": "python"
    },
    "language_info": {
      "codemirror_mode": {
        "name": "python",
        "version": 3
      },
      "file_extension": ".py",
      "mimetype": "text/x-python",
      "name": "python",
      "nbconvert_exporter": "python",
      "pygments_lexer": "ipython3",
      "version": "3.8"
    }
  },
  "nbformat_minor": 5,
  "nbformat": 4,
  "cells": [
    {
      "id": "38d0b426-b2f7-4940-9d67-4b9dbdff6fea",
      "cell_type": "code",
      "source": "#1. Create a List L that is defined as= [10, 20, 30, 40, 50, 60, 70, 80].\n#i. WAP to add 200 and 300 to L.\n#ii. WAP to remove 10 and 30 from L.\niii. WAP to sort L in ascending order.\niv. WAP to sort L in descending\n\nl=[10,20,30,40,50,60,70,80]\nprint(\"inital list\")\nprint(l)\nprint(\"after apending\")\nl.append(200)\nl.append(300)\nprint(l)\nprint(\"after removal\")\nl.remove(10)\nl.remove(30)\nprint(l)\nl.sort()\nprint(\"ascending\")\nprint(l)\nl.sort(reverse=True)\nprint(\"descending\")\nprint(l)\n\n2. Create a tuple of marks scored as scores = (45, 89.5, 76, 45.4, 89, 92, 58, 45) and\nperform the following operations using tuple functions:\ni. Identify the highest score and its index in the tuple.\nii. Find the lowest score and count how many times it appears.\niii. Reverse the tuple and return it as a list.\niv. Check if a specific score ‘76’ (input by the user) is present in the tuple and\nprint its first occurrence index, or a message saying it’s not present.\n\nscores = (45, 89.5, 76, 45.4, 89, 92, 58, 45)\n\nhighest_score = max(scores)\nhighest_index = scores.index(highest_score)\n\nlowest_score = min(scores)\nlowest_count = scores.count(lowest_score)\n\nreversed_list = list(scores[::-1])\n\nsearch_score = 76\nif search_score in scores:\n   first_occurrence_index = scores.index(search_score)\n   print(f\"The score {search_score} is present at index {first_occurrence_index}.\")\nelse:\n   print(f\"The score {search_score} is not present in the tuple.\")\n\nprint(f\"Highest score: {highest_score}, at index: {highest_index}\")\nprint(f\"Lowest score: {lowest_score}, appears {lowest_count} times\")\nprint(f\"Reversed tuple as a list: {reversed_list}\")\n\n\n\n\n3. WAP to create a list of 100 random numbers between 100 and 900. Count and print\nthe:\ni. All odd numbers\nii. All even numbers\niii. All prime numbers\n\nimport random\nrandom = [random.randint(100, 900) for _ in range(100)]\n\nodd = []\neven = []\nprime = []\n\nfor num in random:\n   if(num%2==0):\n       even.append(num)\n   else:\n       odd.append(num)\n   if num > 1:\n       is_prime = True\n       for i in range(2, int(num**0.5) + 1):\n           if num % i == 0:\n               is_prime = False\n               break\n       if is_prime:\n           prime.append(num)\n\nprint(\"Random Numbers:\", random)\nprint(\"\\nCount of Odd Numbers:\", len(odd))\nprint(\"Odd Numbers:\", odd)\nprint(\"\\nCount of Even Numbers:\", len(even))\nprint(\"Even Numbers:\", even)\nprint(\"\\nCount of Prime Numbers:\", len(prime))\nprint(\"Prime Numbers:\", prime)\n\n\n\n4. Consider the following two sets, A and B, representing scores of two teams in multiple\nmatches. A = {34, 56, 78, 90} and B = {78, 45, 90, 23}\nWAP to perform the following operaƟons using set functions:\ni. Find the unique scores achieved by both teams (union of sets).\nii. Identify the scores that are common to both teams (intersection of sets).\niii. Find the scores that are exclusive to each team (symmetric difference).\niv. Check if the scores of team A are a subset of team B, and if team B's scores are\na superset of team A.\nv. Remove a specific score X (input by the user) from set A if it exists. If not, print\na message saying it is not present.\n\nA = {34, 56, 78, 90}\nB = {78, 45, 90, 23}\n\nunique_scores = A.union(B)\ncommon_scores = A.intersection(B)\nexclusive_scores = A.symmetric_difference(B)\nis_A_subset_of_B = A.issubset(B)\nis_B_superset_of_A = B.issuperset(A)\nX = int(input(\"Enter the score to remove from set A: \"))\nif X in A:\n   A.remove(X)\n   print(f\"Score {X} has been removed from set A.\")\nelse:\n   print(f\"Score {X} is not present in set A.\")\n\nprint(f\"Unique scores (Union): {unique_scores}\")\nprint(f\"Common scores (Intersection): {common_scores}\")\nprint(f\"Exclusive scores (Symmetric Difference): {exclusive_scores}\")\nprint(f\"Is A a subset of B? {is_A_subset_of_B}\")\nprint(f\"Is B a superset of A? {is_B_superset_of_A}\")\nprint(f\"Updated set A: {A}\")\n\n\n5. Write a program to rename a key city to a location in the following dictionary\n\nd={\"name\":\"kelly\",\"age\":25,\"salary\":8000,\"city\":\"new york\"}\n\nif \"city\" in d:\n   d[\"location\"]=d.pop(\"city\")\n   print(\"successful\")\nelse:\n   print(\"not successful\")\nprint(\"updated dictionary:\",d)",
      "metadata": {
        "trusted": true
      },
      "outputs": [],
      "execution_count": null
    }
  ]
}