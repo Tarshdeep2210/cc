{
  "metadata": {
    "kernelspec": {
      "name": "python",
      "display_name": "Python (Pyodide)",
      "language": "python"
    },
    "language_info": {
      "codemirror_mode": {
        "name": "python",
        "version": 3
      },
      "file_extension": ".py",
      "mimetype": "text/x-python",
      "name": "python",
      "nbconvert_exporter": "python",
      "pygments_lexer": "ipython3",
      "version": "3.8"
    }
  },
  "nbformat_minor": 5,
  "nbformat": 4,
  "cells": [
    {
      "id": "a03692a0-1831-4722-82b3-fe3b772fa257",
      "cell_type": "code",
      "source": "#1.1 WAP to print your name three times\nprint(\"Tarshdeep\")\nprint(\"Tarshdeep\")\nprint(\"Tarshdeep\")\n\n#2.1: WAP to add three numbers and print the result.\na=100\nb=3\nc=6\nd=a+b+c\nprint(a,\"+\",b,\"+\",c,\"-->\",d)\n\n#2.2: WAP to concatinate three strings and print the result.\na=\"sanya\"\nb=\"priya\"\nc=\"aastha\"\nd=a+b+c\nprint(a,\"&\",b,\"&\",c,\"-->\",d)\n\n#4.1: WAP to print the table of 7, 9.\n#table of 7\nfor i in range(0,11):\n    print(\"7\",\"*\",i,\"-->\",i*7)\n    \n    #table of 9\n    for i in range(0,11):\n        print(\"9\",\"*\",i,\"-->\",i*9)\n\n#4.2: WAP to print the table of n and n is given by user.\nn=int(input(\"enter a number:\"))\nfor i in range(0,11):\n    print(\"n\",\"*\",i,\"-->\",i*n)\n\n#4.3: WAP to add all the numbers from 1 to n and n is given by user.\nn = int(input(\"Enter the number till which sum is needed: \"))\nsum = 0\nfor i in range(0, n + 1):\n    sum = sum + i\nprint(\"The sum is:\", sum)\n#5\n\n#5.1: WAP to find max amoung three numbers and input from user. [Try max() function]\na=int(input(\"enter the first number\"))\nb=int(input(\"enter the second number\"))\nc=int(input(\"enter the third number\"))\nif a>b and a>c:\n    print(\"a is greater\")\nelif b>c and b>a:\n    print(\"b is greter\")\nelif c>b and c>a:\n    print(\"c is greater\")\nelse:\n    print(\"they are equal\")  \n\n#5.2: WAP to add all numbers divisible by 7 and 9 from 1 to n and n is given by the user.\n    \n    ",
      "metadata": {
        "trusted": true
      },
      "outputs": [
        {
          "name": "stdout",
          "output_type": "stream",
          "text": "Tarshdeep\nTarshdeep\nTarshdeep\n100 + 3 + 6 --> 109\nsanya & priya & aastha --> sanyapriyaaastha\n7 * 0 --> 0\n9 * 0 --> 0\n9 * 1 --> 9\n9 * 2 --> 18\n9 * 3 --> 27\n9 * 4 --> 36\n9 * 5 --> 45\n9 * 6 --> 54\n9 * 7 --> 63\n9 * 8 --> 72\n9 * 9 --> 81\n9 * 10 --> 90\n7 * 1 --> 7\n9 * 0 --> 0\n9 * 1 --> 9\n9 * 2 --> 18\n9 * 3 --> 27\n9 * 4 --> 36\n9 * 5 --> 45\n9 * 6 --> 54\n9 * 7 --> 63\n9 * 8 --> 72\n9 * 9 --> 81\n9 * 10 --> 90\n7 * 2 --> 14\n9 * 0 --> 0\n9 * 1 --> 9\n9 * 2 --> 18\n9 * 3 --> 27\n9 * 4 --> 36\n9 * 5 --> 45\n9 * 6 --> 54\n9 * 7 --> 63\n9 * 8 --> 72\n9 * 9 --> 81\n9 * 10 --> 90\n7 * 3 --> 21\n9 * 0 --> 0\n9 * 1 --> 9\n9 * 2 --> 18\n9 * 3 --> 27\n9 * 4 --> 36\n9 * 5 --> 45\n9 * 6 --> 54\n9 * 7 --> 63\n9 * 8 --> 72\n9 * 9 --> 81\n9 * 10 --> 90\n7 * 4 --> 28\n9 * 0 --> 0\n9 * 1 --> 9\n9 * 2 --> 18\n9 * 3 --> 27\n9 * 4 --> 36\n9 * 5 --> 45\n9 * 6 --> 54\n9 * 7 --> 63\n9 * 8 --> 72\n9 * 9 --> 81\n9 * 10 --> 90\n7 * 5 --> 35\n9 * 0 --> 0\n9 * 1 --> 9\n9 * 2 --> 18\n9 * 3 --> 27\n9 * 4 --> 36\n9 * 5 --> 45\n9 * 6 --> 54\n9 * 7 --> 63\n9 * 8 --> 72\n9 * 9 --> 81\n9 * 10 --> 90\n7 * 6 --> 42\n9 * 0 --> 0\n9 * 1 --> 9\n9 * 2 --> 18\n9 * 3 --> 27\n9 * 4 --> 36\n9 * 5 --> 45\n9 * 6 --> 54\n9 * 7 --> 63\n9 * 8 --> 72\n9 * 9 --> 81\n9 * 10 --> 90\n7 * 7 --> 49\n9 * 0 --> 0\n9 * 1 --> 9\n9 * 2 --> 18\n9 * 3 --> 27\n9 * 4 --> 36\n9 * 5 --> 45\n9 * 6 --> 54\n9 * 7 --> 63\n9 * 8 --> 72\n9 * 9 --> 81\n9 * 10 --> 90\n7 * 8 --> 56\n9 * 0 --> 0\n9 * 1 --> 9\n9 * 2 --> 18\n9 * 3 --> 27\n9 * 4 --> 36\n9 * 5 --> 45\n9 * 6 --> 54\n9 * 7 --> 63\n9 * 8 --> 72\n9 * 9 --> 81\n9 * 10 --> 90\n7 * 9 --> 63\n9 * 0 --> 0\n9 * 1 --> 9\n9 * 2 --> 18\n9 * 3 --> 27\n9 * 4 --> 36\n9 * 5 --> 45\n9 * 6 --> 54\n9 * 7 --> 63\n9 * 8 --> 72\n9 * 9 --> 81\n9 * 10 --> 90\n7 * 10 --> 70\n9 * 0 --> 0\n9 * 1 --> 9\n9 * 2 --> 18\n9 * 3 --> 27\n9 * 4 --> 36\n9 * 5 --> 45\n9 * 6 --> 54\n9 * 7 --> 63\n9 * 8 --> 72\n9 * 9 --> 81\n9 * 10 --> 90\n"
        },
        {
          "ename": "<class 'TypeError'>",
          "evalue": "int() argument must be a string, a bytes-like object or a real number, not 'PyodideFuture'",
          "traceback": [
            "\u001b[0;31m---------------------------------------------------------------------------\u001b[0m",
            "\u001b[0;31mTypeError\u001b[0m                                 Traceback (most recent call last)",
            "Cell \u001b[0;32mIn[2], line 30\u001b[0m\n\u001b[1;32m     27\u001b[0m         \u001b[38;5;28mprint\u001b[39m(\u001b[38;5;124m\"\u001b[39m\u001b[38;5;124m9\u001b[39m\u001b[38;5;124m\"\u001b[39m,\u001b[38;5;124m\"\u001b[39m\u001b[38;5;124m*\u001b[39m\u001b[38;5;124m\"\u001b[39m,i,\u001b[38;5;124m\"\u001b[39m\u001b[38;5;124m-->\u001b[39m\u001b[38;5;124m\"\u001b[39m,i\u001b[38;5;241m*\u001b[39m\u001b[38;5;241m9\u001b[39m)\n\u001b[1;32m     29\u001b[0m \u001b[38;5;66;03m#4.2: WAP to print the table of n and n is given by user.\u001b[39;00m\n\u001b[0;32m---> 30\u001b[0m n\u001b[38;5;241m=\u001b[39m\u001b[38;5;28;43mint\u001b[39;49m\u001b[43m(\u001b[49m\u001b[38;5;28;43minput\u001b[39;49m\u001b[43m(\u001b[49m\u001b[38;5;124;43m\"\u001b[39;49m\u001b[38;5;124;43menter a number:\u001b[39;49m\u001b[38;5;124;43m\"\u001b[39;49m\u001b[43m)\u001b[49m\u001b[43m)\u001b[49m\n\u001b[1;32m     31\u001b[0m \u001b[38;5;28;01mfor\u001b[39;00m i \u001b[38;5;129;01min\u001b[39;00m \u001b[38;5;28mrange\u001b[39m(\u001b[38;5;241m0\u001b[39m,\u001b[38;5;241m11\u001b[39m):\n\u001b[1;32m     32\u001b[0m     \u001b[38;5;28mprint\u001b[39m(\u001b[38;5;124m\"\u001b[39m\u001b[38;5;124mn\u001b[39m\u001b[38;5;124m\"\u001b[39m,\u001b[38;5;124m\"\u001b[39m\u001b[38;5;124m*\u001b[39m\u001b[38;5;124m\"\u001b[39m,i,\u001b[38;5;124m\"\u001b[39m\u001b[38;5;124m-->\u001b[39m\u001b[38;5;124m\"\u001b[39m,i\u001b[38;5;241m*\u001b[39mn)\n",
            "\u001b[0;31mTypeError\u001b[0m: int() argument must be a string, a bytes-like object or a real number, not 'PyodideFuture'"
          ],
          "output_type": "error"
        }
      ],
      "execution_count": 2
    }
  ]
}